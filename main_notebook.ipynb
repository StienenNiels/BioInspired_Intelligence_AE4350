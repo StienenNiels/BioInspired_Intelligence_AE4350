{
 "cells": [
  {
   "cell_type": "code",
   "execution_count": 11,
   "metadata": {},
   "outputs": [],
   "source": [
    "import gymnasium as gym\n",
    "from stable_baselines3 import SAC\n",
    "from stable_baselines3.common.vec_env import DummyVecEnv, SubprocVecEnv, VecMonitor\n",
    "import matplotlib.pyplot as plt\n",
    "import pandas as pd\n",
    "import numpy as np"
   ]
  },
  {
   "cell_type": "code",
   "execution_count": 2,
   "metadata": {},
   "outputs": [
    {
     "name": "stdout",
     "output_type": "stream",
     "text": [
      "[1875246236, 1875246237, 1875246238, 1875246239, 1875246240, 1875246241, 1875246242, 1875246243, 1875246244, 1875246245, 1875246246, 1875246247, 1875246248, 1875246249, 1875246250, 1875246251]\n"
     ]
    },
    {
     "data": {
      "application/vnd.jupyter.widget-view+json": {
       "model_id": "b24b0deee6154cefa36ea2a6d0d8c186",
       "version_major": 2,
       "version_minor": 0
      },
      "text/plain": [
       "Output()"
      ]
     },
     "metadata": {},
     "output_type": "display_data"
    },
    {
     "data": {
      "text/html": [
       "<pre style=\"white-space:pre;overflow-x:auto;line-height:normal;font-family:Menlo,'DejaVu Sans Mono',consolas,'Courier New',monospace\"></pre>\n"
      ],
      "text/plain": []
     },
     "metadata": {},
     "output_type": "display_data"
    },
    {
     "data": {
      "text/html": [
       "<pre style=\"white-space:pre;overflow-x:auto;line-height:normal;font-family:Menlo,'DejaVu Sans Mono',consolas,'Courier New',monospace\">\n",
       "</pre>\n"
      ],
      "text/plain": [
       "\n"
      ]
     },
     "metadata": {},
     "output_type": "display_data"
    }
   ],
   "source": [
    "def make_env(env_id, rank, seed=0):\n",
    "    def _init():\n",
    "        env = gym.make(env_id)\n",
    "        return env\n",
    "    return _init\n",
    "\n",
    "env_id = 'InvertedPendulum-v4'  # Replace with your MuJoCo environment\n",
    "num_envs = 16  # Number of parallel environments\n",
    "\n",
    "# Create the vectorized environment\n",
    "env = SubprocVecEnv([make_env(env_id, i) for i in range(num_envs)])\n",
    "print(env.seed())\n",
    "env = VecMonitor(env)  # Optional: for monitoring and logging\n",
    "\n",
    "model = SAC('MlpPolicy', env, verbose=0)\n",
    "model.learn(total_timesteps=1e5, log_interval=4, progress_bar=True)\n",
    "model.save(\"sac_pendulum\")\n",
    "\n",
    "# del model # remove to demonstrate saving and loading\n",
    "\n"
   ]
  },
  {
   "cell_type": "code",
   "execution_count": 9,
   "metadata": {},
   "outputs": [
    {
     "data": {
      "image/png": "[encoded data removed]",
      "text/plain": [
       "<Figure size 640x480 with 1 Axes>"
      ]
     },
     "metadata": {},
     "output_type": "display_data"
    }
   ],
   "source": [
    "model = SAC.load(\"sac_pendulum\")\n",
    "\n",
    "env = gym.make(\"InvertedPendulum-v4\", render_mode='rgb_array')\n",
    "obs, info = env.reset()\n",
    "\n",
    "data = []\n",
    "while not (terminated or truncated):\n",
    "    action, _states = model.predict(obs, deterministic=True)\n",
    "    obs, reward, terminated, truncated, info = env.step(action)\n",
    "    data.append([action, obs, reward])\n",
    "    clear_output(wait=True)\n",
    "    plt.imshow( env.render() )\n",
    "    plt.axis('off')\n",
    "    plt.show()\n",
    "\n",
    "names = [\"bthigh\", \"bshin\", \"bfoot\", \"fthigh\", \"fshin\", \"ffoot\"]\n",
    "\n",
    "P = pd.DataFrame(np.array(data), columns = names)\n",
    "\n",
    "name = \"bs422\"\n",
    "saveFile = \"recordings/\" + name\n",
    "P.to_csv(saveFile + \".csv\")"
   ]
  },
  {
   "cell_type": "code",
   "execution_count": null,
   "metadata": {},
   "outputs": [],
   "source": [
    "model = SAC.load(\"sac_pendulum\")\n",
    "\n",
    "env = gym.make(\"InvertedPendulum-v4\", render_mode='rgb_array')\n",
    "obs, info = env.reset()\n",
    "while True:\n",
    "    action, _states = model.predict(obs, deterministic=True)\n",
    "    obs, reward, terminated, truncated, info = env.step(action)\n",
    "    if terminated or truncated:\n",
    "        obs, info = env.reset()\n",
    "    clear_output(wait=True)\n",
    "    plt.imshow( env.render() )\n",
    "    plt.axis('off')\n",
    "    plt.show()"
   ]
  }
 ],
 "metadata": {
  "kernelspec": {
   "display_name": "BII_mujoco",
   "language": "python",
   "name": "python3"
  },
  "language_info": {
   "codemirror_mode": {
    "name": "ipython",
    "version": 3
   },
   "file_extension": ".py",
   "mimetype": "text/x-python",
   "name": "python",
   "nbconvert_exporter": "python",
   "pygments_lexer": "ipython3",
   "version": "3.11.7"
  }
 },
 "nbformat": 4,
 "nbformat_minor": 2
}
