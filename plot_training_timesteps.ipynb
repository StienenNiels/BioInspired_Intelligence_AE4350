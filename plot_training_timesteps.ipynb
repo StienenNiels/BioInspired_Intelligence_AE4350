{
 "cells": [
  {
   "cell_type": "code",
   "execution_count": null,
   "metadata": {},
   "outputs": [],
   "source": [
    "# Import necessary libraries\n",
    "import pandas as pd\n",
    "import matplotlib.pyplot as plt\n",
    "\n",
    "# Read the CSV file into a DataFrame\n",
    "df1 = pd.read_csv('logs/TimeSteps1e3.csv')\n",
    "df2 = pd.read_csv('logs/TimeSteps1e4.csv')\n",
    "df3 = pd.read_csv('logs/TimeSteps1e5.csv')\n",
    "df4 = pd.read_csv('logs/TimeSteps1e6.csv')\n",
    "\n",
    "# Create a new figure\n",
    "plt.figure(figsize=(10, 6))  # Set the figure size\n",
    "\n",
    "plt.plot(df1['episode']*50, df1['average_reward'], label='1e3 steps')\n",
    "plt.plot(df2['episode']*50, df2['average_reward'], label='1e4 steps')\n",
    "plt.plot(df3['episode']*50, df3['average_reward'], label='1e5 steps')\n",
    "plt.plot(df4['episode']*50, df4['average_reward'], label='1e6 steps')\n",
    "plt.title(f'Plot of average reward per episode')\n",
    "plt.xlabel('Episode')\n",
    "plt.ylabel('Average Reward')\n",
    "plt.legend()\n",
    "plt.xlim(0, 1e5)\n",
    "\n",
    "# Adjust the layout so the plots do not overlap\n",
    "plt.tight_layout()\n",
    "plt.savefig('report_images/'+'avg_timesteps.eps')\n",
    "\n",
    "# Show the plots\n",
    "plt.show()\n"
   ]
  }
 ],
 "metadata": {
  "kernelspec": {
   "display_name": "BII_par",
   "language": "python",
   "name": "python3"
  },
  "language_info": {
   "codemirror_mode": {
    "name": "ipython",
    "version": 3
   },
   "file_extension": ".py",
   "mimetype": "text/x-python",
   "name": "python",
   "nbconvert_exporter": "python",
   "pygments_lexer": "ipython3",
   "version": "3.11.7"
  }
 },
 "nbformat": 4,
 "nbformat_minor": 2
}
