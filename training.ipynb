{
 "cells": [
  {
   "cell_type": "code",
   "execution_count": null,
   "metadata": {},
   "outputs": [],
   "source": [
    "import training_function as tf"
   ]
  },
  {
   "cell_type": "code",
   "execution_count": null,
   "metadata": {},
   "outputs": [],
   "source": [
    "# Notebook for training with different parameters and reward functions\n",
    "tf.TrainSAC(\"P_tau_1e_2\", tau=0.001)\n",
    "tf.TrainSAC(\"P_tau_5e_2\", tau=0.005)\n",
    "tf.TrainSAC(\"P_tau_1e_1\", tau=0.01)\n",
    "tf.TrainSAC(\"P_tau_5e_1\", tau=0.05)\n",
    "\n",
    "tf.TrainSAC(\"P_gamma_99\", gamma=0.99)\n",
    "tf.TrainSAC(\"P_gamma_90\", gamma=0.9)\n",
    "tf.TrainSAC(\"P_gamma_80\", gamma=0.8)\n",
    "tf.TrainSAC(\"P_gamma_50\", gamma=0.5)\n",
    "\n",
    "tf.TrainSAC(\"P_lr1\", learning_rate=1e-4)\n",
    "tf.TrainSAC(\"P_lr2\", learning_rate=2e-4)\n",
    "tf.TrainSAC(\"P_lr3\", learning_rate=3e-4)\n",
    "tf.TrainSAC(\"P_lr4\", learning_rate=4e-4)\n",
    "tf.TrainSAC(\"P_lr5\", learning_rate=5e-4)"
   ]
  },
  {
   "cell_type": "code",
   "execution_count": null,
   "metadata": {},
   "outputs": [],
   "source": [
    "tf.CollectData(\"P_tau_1e_2\", 3)\n",
    "tf.CollectData(\"P_tau_5e_2\", 3)\n",
    "tf.CollectData(\"P_tau_1e_1\", 3)\n",
    "tf.CollectData(\"P_tau_5e_1\", 3)\n",
    "\n",
    "tf.CollectData(\"P_gamma_99\", 3)\n",
    "tf.CollectData(\"P_gamma_90\", 3)\n",
    "tf.CollectData(\"P_gamma_80\", 3)\n",
    "tf.CollectData(\"P_gamma_50\", 3)\n",
    "\n",
    "tf.CollectData(\"P_lr1\", 3)\n",
    "tf.CollectData(\"P_lr2\", 3)\n",
    "tf.CollectData(\"P_lr3\", 3)\n",
    "tf.CollectData(\"P_lr4\", 3)\n",
    "tf.CollectData(\"P_lr5\", 3)"
   ]
  }
 ],
 "metadata": {
  "kernelspec": {
   "display_name": "BII_par",
   "language": "python",
   "name": "python3"
  },
  "language_info": {
   "codemirror_mode": {
    "name": "ipython",
    "version": 3
   },
   "file_extension": ".py",
   "mimetype": "text/x-python",
   "name": "python",
   "nbconvert_exporter": "python",
   "pygments_lexer": "ipython3",
   "version": "3.11.7"
  }
 },
 "nbformat": 4,
 "nbformat_minor": 2
}
