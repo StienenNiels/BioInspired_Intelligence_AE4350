{
 "cells": [
  {
   "cell_type": "code",
   "execution_count": null,
   "metadata": {},
   "outputs": [],
   "source": [
    "import training_function as tf"
   ]
  },
  {
   "cell_type": "code",
   "execution_count": null,
   "metadata": {},
   "outputs": [],
   "source": [
    "# Notebook for training with different parameters and reward functions\n",
    "tf.TrainSAC(\"Default_R1_steps_1e2\", total_timesteps=1e2)\n",
    "tf.TrainSAC(\"Default_R1_steps_1e3\", total_timesteps=1e3)\n",
    "tf.TrainSAC(\"Default_R1_steps_1e4\", total_timesteps=1e4)\n",
    "tf.TrainSAC(\"Default_R1_steps_1e5\", total_timesteps=1e5)\n",
    "tf.TrainSAC(\"Default_R1_steps_1e6\", total_timesteps=1e6)"
   ]
  },
  {
   "cell_type": "code",
   "execution_count": null,
   "metadata": {},
   "outputs": [],
   "source": [
    "tf.CollectData(\"Test1\", 2)"
   ]
  }
 ],
 "metadata": {
  "kernelspec": {
   "display_name": "BII_par",
   "language": "python",
   "name": "python3"
  },
  "language_info": {
   "codemirror_mode": {
    "name": "ipython",
    "version": 3
   },
   "file_extension": ".py",
   "mimetype": "text/x-python",
   "name": "python",
   "nbconvert_exporter": "python",
   "pygments_lexer": "ipython3",
   "version": "3.11.7"
  }
 },
 "nbformat": 4,
 "nbformat_minor": 2
}
