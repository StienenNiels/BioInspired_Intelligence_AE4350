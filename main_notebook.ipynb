{
 "cells": [
  {
   "cell_type": "code",
   "execution_count": 1,
   "metadata": {},
   "outputs": [
    {
     "name": "stderr",
     "output_type": "stream",
     "text": [
      "rew: 16.0 | act loss: 2.7460608009732823e-08: : 12302it [00:05, 2417.77it/s]                           "
     ]
    },
    {
     "name": "stdout",
     "output_type": "stream",
     "text": [
      "Saving\n",
      "Loading\n"
     ]
    },
    {
     "name": "stderr",
     "output_type": "stream",
     "text": [
      "\n"
     ]
    }
   ],
   "source": [
    "import gymnasium as gym\n",
    "from model import Model_Class\n",
    "\n",
    "env = gym.make(\"InvertedPendulum-v4\")\n",
    "model = Model_Class(env)\n",
    "model.learn(1e4)\n",
    "model.save(\"testrun\")"
   ]
  },
  {
   "cell_type": "code",
   "execution_count": null,
   "metadata": {},
   "outputs": [],
   "source": [
    "env = gym.make(\"InvertedPendulum-v4\", render_mode=\"human\")\n",
    "env.reset()\n",
    "\n",
    "while True:\n",
    "    finished = False\n",
    "    observation, _ = env.reset()\n",
    "    reward = 0\n",
    "    while not finished:\n",
    "        action, _ = model.get_action(observation, deterministic=True)\n",
    "        observation, reward_next, terminated, truncated, _ = env.step(action)\n",
    "        finished = truncated or terminated\n",
    "        reward += reward_next\n",
    "\n",
    "    print(f\"epoch reward = {reward}\") "
   ]
  }
 ],
 "metadata": {
  "kernelspec": {
   "display_name": "BII_mujoco",
   "language": "python",
   "name": "python3"
  },
  "language_info": {
   "codemirror_mode": {
    "name": "ipython",
    "version": 3
   },
   "file_extension": ".py",
   "mimetype": "text/x-python",
   "name": "python",
   "nbconvert_exporter": "python",
   "pygments_lexer": "ipython3",
   "version": "3.8.19"
  }
 },
 "nbformat": 4,
 "nbformat_minor": 2
}
